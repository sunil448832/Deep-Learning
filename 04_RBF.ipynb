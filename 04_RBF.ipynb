{
  "nbformat": 4,
  "nbformat_minor": 0,
  "metadata": {
    "colab": {
      "name": "RBF.ipynb",
      "provenance": [],
      "collapsed_sections": [],
      "authorship_tag": "ABX9TyOwlKwixrVFlYI/QoRJshjQ",
      "include_colab_link": true
    },
    "kernelspec": {
      "name": "python3",
      "display_name": "Python 3"
    },
    "accelerator": "GPU"
  },
  "cells": [
    {
      "cell_type": "markdown",
      "metadata": {
        "id": "view-in-github",
        "colab_type": "text"
      },
      "source": [
        "<a href=\"https://colab.research.google.com/github/sunil448832/Deep-Learning/blob/main/RBF.ipynb\" target=\"_parent\"><img src=\"https://colab.research.google.com/assets/colab-badge.svg\" alt=\"Open In Colab\"/></a>"
      ]
    },
    {
      "cell_type": "code",
      "metadata": {
        "id": "uBFwc1kMteyy"
      },
      "source": [
        "import torch\n",
        "import torch.nn as nn\n",
        "import torch.nn.functional as F\n",
        "from torch.utils.data import DataLoader, Dataset, TensorDataset\n",
        "import torchvision\n",
        "import matplotlib.pyplot as plt\n",
        "import numpy as np\n",
        "from PIL import Image, ImageOps \n",
        "device = torch.device(\"cuda:0\" if torch.cuda.is_available() else \"cpu\")\n"
      ],
      "execution_count": 1,
      "outputs": []
    },
    {
      "cell_type": "markdown",
      "metadata": {
        "id": "MDsyTYPpbdBc"
      },
      "source": [
        "# **MNIST Data Classification using Radial basis function**"
      ]
    },
    {
      "cell_type": "code",
      "metadata": {
        "id": "eh1ROmR3um57"
      },
      "source": [
        "def preprocess(img):\n",
        "  img = ImageOps.grayscale(img)\n",
        "  img = torch.Tensor(np.array(img)).reshape(-1)\n",
        "  return img.float()/255.0\n",
        "\n",
        "train = torchvision.datasets.MNIST('/content/files/', train=True, download=True,\n",
        "                            transform=torchvision.transforms.Compose([preprocess]))\n",
        "\n",
        "test = torchvision.datasets.MNIST('/content/files/', train=False,download=True,\n",
        "                            transform=torchvision.transforms.Compose([preprocess]))\n",
        "size=len(train.targets)"
      ],
      "execution_count": 9,
      "outputs": []
    },
    {
      "cell_type": "code",
      "metadata": {
        "id": "f7VaCH3u0epW"
      },
      "source": [
        "train_dataset=torch.utils.data.Subset(train,range(int(.7*size)))\n",
        "val_dataset=torch.utils.data.Subset(train,range(int(.7*size),size))\n",
        "\n"
      ],
      "execution_count": 10,
      "outputs": []
    },
    {
      "cell_type": "markdown",
      "metadata": {
        "id": "rZ-cmAe6a4LO"
      },
      "source": [
        "# **Radial basis function**"
      ]
    },
    {
      "cell_type": "code",
      "metadata": {
        "id": "GaE8qdvR_iAB",
        "colab": {
          "base_uri": "https://localhost:8080/"
        },
        "outputId": "9cdcbf99-5a21-40f3-de89-4447881d07c3"
      },
      "source": [
        "class RBF(nn.Module):\n",
        "  def __init__(self,input_dim,centers):\n",
        "    super(RBF,self).__init__()\n",
        "    self.input_dim=input_dim\n",
        "    self.centers=centers\n",
        "    self.mean= torch.nn.Parameter(torch.randn(centers,input_dim)) # mean shape=( #centers , input_dim)\n",
        "    self.std_inv= torch.nn.Parameter(torch.randn(centers))    # standerd_deviation inverse shape =(#centers, 1)\n",
        "    self.classifier=nn.Linear(centers,10)   \n",
        "  \n",
        "  def gaussian_activation(self,input):\n",
        "\n",
        "    #repeating the inputs till numbers of centers so that (input-mean) is feasible;\n",
        "    input=input.unsqueeze(dim=1)\n",
        "    input=input.repeat(1,self.centers,1).view(input.size(0),-1,input.size(-1))\n",
        "    \n",
        "    #reapeating the mean till batch size of input to make (input-mean) feasible\n",
        "    mean=self.mean.unsqueeze(dim=0)\n",
        "    mean=mean.repeat(input.size(0),1,1).view(-1,*self.mean.size())\n",
        "\n",
        "    #repeating the std_inv till batch size of input to make (|input-mean|*std_inv) feasible\n",
        "    std_inv=self.std_inv.unsqueeze(dim=0)\n",
        "    std_inv=std_inv.repeat(input.size(0),1).view(-1,self.std_inv.size(-1))\n",
        "\n",
        "    # Multinomial Gaussian Distributuon with given mean and std_inv   \n",
        "    # Gaussian= e-(|input-mean|*std_inv)**2\n",
        "    distance = (input - mean).pow(2).sum(-1).pow(0.5) * std_inv # (|input-mean|*std_inv)\n",
        "    gaussian = torch.exp(-1*distance.pow(2))       # e-(distance)**2)\n",
        "    return gaussian\n",
        "\n",
        "  def forward(self,x):\n",
        "    x=self.gaussian_activation(x)  #applying gaussian_activation\n",
        "    return self.classifier(x) # classification"
      ],
      "execution_count": 4,
      "outputs": [
        {
          "output_type": "stream",
          "text": [
            "\n",
            "\n"
          ],
          "name": "stdout"
        }
      ]
    },
    {
      "cell_type": "markdown",
      "metadata": {
        "id": "IyVWJQWPbIRu"
      },
      "source": [
        "# **Model training**"
      ]
    },
    {
      "cell_type": "code",
      "metadata": {
        "colab": {
          "base_uri": "https://localhost:8080/",
          "height": 255
        },
        "id": "l5-hRt34NGVc",
        "outputId": "b1e87610-8062-424b-9486-2854a33def6f"
      },
      "source": [
        "!pip install -qqq wandb\n",
        "!pip install -qqqU fastai\n",
        "import wandb\n",
        "from fastai.callback.wandb import *\n",
        "from fastai.vision.all import *\n",
        "from fastai.data.core import DataLoaders\n",
        "wandb.login()"
      ],
      "execution_count": 5,
      "outputs": [
        {
          "output_type": "stream",
          "text": [
            "\u001b[K     |████████████████████████████████| 1.8MB 38.9MB/s \n",
            "\u001b[K     |████████████████████████████████| 163kB 55.9MB/s \n",
            "\u001b[K     |████████████████████████████████| 81kB 11.7MB/s \n",
            "\u001b[K     |████████████████████████████████| 133kB 49.1MB/s \n",
            "\u001b[K     |████████████████████████████████| 102kB 14.0MB/s \n",
            "\u001b[K     |████████████████████████████████| 71kB 10.5MB/s \n",
            "\u001b[?25h  Building wheel for subprocess32 (setup.py) ... \u001b[?25l\u001b[?25hdone\n",
            "\u001b[K     |████████████████████████████████| 194kB 21.4MB/s \n",
            "\u001b[K     |████████████████████████████████| 61kB 8.9MB/s \n",
            "\u001b[?25h"
          ],
          "name": "stdout"
        },
        {
          "output_type": "display_data",
          "data": {
            "application/javascript": [
              "\n",
              "        window._wandbApiKey = new Promise((resolve, reject) => {\n",
              "            function loadScript(url) {\n",
              "            return new Promise(function(resolve, reject) {\n",
              "                let newScript = document.createElement(\"script\");\n",
              "                newScript.onerror = reject;\n",
              "                newScript.onload = resolve;\n",
              "                document.body.appendChild(newScript);\n",
              "                newScript.src = url;\n",
              "            });\n",
              "            }\n",
              "            loadScript(\"https://cdn.jsdelivr.net/npm/postmate/build/postmate.min.js\").then(() => {\n",
              "            const iframe = document.createElement('iframe')\n",
              "            iframe.style.cssText = \"width:0;height:0;border:none\"\n",
              "            document.body.appendChild(iframe)\n",
              "            const handshake = new Postmate({\n",
              "                container: iframe,\n",
              "                url: 'https://wandb.ai/authorize'\n",
              "            });\n",
              "            const timeout = setTimeout(() => reject(\"Couldn't auto authenticate\"), 5000)\n",
              "            handshake.then(function(child) {\n",
              "                child.on('authorize', data => {\n",
              "                    clearTimeout(timeout)\n",
              "                    resolve(data)\n",
              "                });\n",
              "            });\n",
              "            })\n",
              "        });\n",
              "    "
            ],
            "text/plain": [
              "<IPython.core.display.Javascript object>"
            ]
          },
          "metadata": {
            "tags": []
          }
        },
        {
          "output_type": "stream",
          "text": [
            "\u001b[34m\u001b[1mwandb\u001b[0m: You can find your API key in your browser here: https://wandb.ai/authorize\n"
          ],
          "name": "stderr"
        },
        {
          "output_type": "stream",
          "text": [
            "wandb: Paste an API key from your profile and hit enter: ··········\n"
          ],
          "name": "stdout"
        },
        {
          "output_type": "stream",
          "text": [
            "\u001b[34m\u001b[1mwandb\u001b[0m: Appending key for api.wandb.ai to your netrc file: /root/.netrc\n"
          ],
          "name": "stderr"
        },
        {
          "output_type": "execute_result",
          "data": {
            "text/plain": [
              "True"
            ]
          },
          "metadata": {
            "tags": []
          },
          "execution_count": 5
        }
      ]
    },
    {
      "cell_type": "code",
      "metadata": {
        "id": "h3THpOGBNO52"
      },
      "source": [
        "wandb.init(project='RBF')\n"
      ],
      "execution_count": null,
      "outputs": []
    },
    {
      "cell_type": "code",
      "metadata": {
        "colab": {
          "base_uri": "https://localhost:8080/",
          "height": 300
        },
        "id": "T9ecDpwfNVgs",
        "outputId": "74a3840d-6a6b-4797-8eea-d3798dd26cca"
      },
      "source": [
        "dls = DataLoaders.from_dsets(train_dataset, val_dataset).to(device)\n",
        "\n",
        "model=RBF(28*28,100).to(device)\n",
        "learn = Learner(dls,model,\n",
        "                CrossEntropyLossFlat(),\n",
        "                metrics=accuracy,\n",
        "                cbs=WandbCallback(log_model=True))\n",
        "\n",
        "\n",
        "learn.lr_find()"
      ],
      "execution_count": 22,
      "outputs": [
        {
          "output_type": "display_data",
          "data": {
            "text/html": [
              ""
            ],
            "text/plain": [
              "<IPython.core.display.HTML object>"
            ]
          },
          "metadata": {
            "tags": []
          }
        },
        {
          "output_type": "execute_result",
          "data": {
            "text/plain": [
              "SuggestedLRs(lr_min=0.012022644281387329, lr_steep=1.3182567499825382e-06)"
            ]
          },
          "metadata": {
            "tags": []
          },
          "execution_count": 22
        },
        {
          "output_type": "display_data",
          "data": {
            "image/png": "[encoded data removed]",
            "text/plain": [
              "<Figure size 432x288 with 1 Axes>"
            ]
          },
          "metadata": {
            "tags": [],
            "needs_background": "light"
          }
        }
      ]
    },
    {
      "cell_type": "code",
      "metadata": {
        "colab": {
          "base_uri": "https://localhost:8080/",
          "height": 514
        },
        "id": "fAUmUngcg_yT",
        "outputId": "7d94b1c6-6077-4643-d716-44e9e5e34c79"
      },
      "source": [
        "learn.fit_one_cycle(15, 1e-2)"
      ],
      "execution_count": 24,
      "outputs": [
        {
          "output_type": "display_data",
          "data": {
            "text/html": [
              "<table border=\"1\" class=\"dataframe\">\n",
              "  <thead>\n",
              "    <tr style=\"text-align: left;\">\n",
              "      <th>epoch</th>\n",
              "      <th>train_loss</th>\n",
              "      <th>valid_loss</th>\n",
              "      <th>accuracy</th>\n",
              "      <th>time</th>\n",
              "    </tr>\n",
              "  </thead>\n",
              "  <tbody>\n",
              "    <tr>\n",
              "      <td>0</td>\n",
              "      <td>2.295485</td>\n",
              "      <td>2.294437</td>\n",
              "      <td>0.162000</td>\n",
              "      <td>00:13</td>\n",
              "    </tr>\n",
              "    <tr>\n",
              "      <td>1</td>\n",
              "      <td>2.156392</td>\n",
              "      <td>2.111764</td>\n",
              "      <td>0.273778</td>\n",
              "      <td>00:13</td>\n",
              "    </tr>\n",
              "    <tr>\n",
              "      <td>2</td>\n",
              "      <td>1.446366</td>\n",
              "      <td>1.392595</td>\n",
              "      <td>0.650722</td>\n",
              "      <td>00:13</td>\n",
              "    </tr>\n",
              "    <tr>\n",
              "      <td>3</td>\n",
              "      <td>1.051916</td>\n",
              "      <td>1.023755</td>\n",
              "      <td>0.761389</td>\n",
              "      <td>00:13</td>\n",
              "    </tr>\n",
              "    <tr>\n",
              "      <td>4</td>\n",
              "      <td>0.862681</td>\n",
              "      <td>0.836952</td>\n",
              "      <td>0.800000</td>\n",
              "      <td>00:13</td>\n",
              "    </tr>\n",
              "    <tr>\n",
              "      <td>5</td>\n",
              "      <td>0.760011</td>\n",
              "      <td>0.716580</td>\n",
              "      <td>0.840556</td>\n",
              "      <td>00:13</td>\n",
              "    </tr>\n",
              "    <tr>\n",
              "      <td>6</td>\n",
              "      <td>0.712681</td>\n",
              "      <td>0.661504</td>\n",
              "      <td>0.849389</td>\n",
              "      <td>00:13</td>\n",
              "    </tr>\n",
              "    <tr>\n",
              "      <td>7</td>\n",
              "      <td>0.670210</td>\n",
              "      <td>0.643371</td>\n",
              "      <td>0.844389</td>\n",
              "      <td>00:13</td>\n",
              "    </tr>\n",
              "    <tr>\n",
              "      <td>8</td>\n",
              "      <td>0.611483</td>\n",
              "      <td>0.587407</td>\n",
              "      <td>0.863778</td>\n",
              "      <td>00:13</td>\n",
              "    </tr>\n",
              "    <tr>\n",
              "      <td>9</td>\n",
              "      <td>0.593629</td>\n",
              "      <td>0.577237</td>\n",
              "      <td>0.863056</td>\n",
              "      <td>00:13</td>\n",
              "    </tr>\n",
              "    <tr>\n",
              "      <td>10</td>\n",
              "      <td>0.592007</td>\n",
              "      <td>0.562069</td>\n",
              "      <td>0.867167</td>\n",
              "      <td>00:13</td>\n",
              "    </tr>\n",
              "    <tr>\n",
              "      <td>11</td>\n",
              "      <td>0.582079</td>\n",
              "      <td>0.547733</td>\n",
              "      <td>0.872722</td>\n",
              "      <td>00:13</td>\n",
              "    </tr>\n",
              "    <tr>\n",
              "      <td>12</td>\n",
              "      <td>0.569770</td>\n",
              "      <td>0.539817</td>\n",
              "      <td>0.876611</td>\n",
              "      <td>00:13</td>\n",
              "    </tr>\n",
              "    <tr>\n",
              "      <td>13</td>\n",
              "      <td>0.555374</td>\n",
              "      <td>0.537859</td>\n",
              "      <td>0.876611</td>\n",
              "      <td>00:13</td>\n",
              "    </tr>\n",
              "    <tr>\n",
              "      <td>14</td>\n",
              "      <td>0.544370</td>\n",
              "      <td>0.536370</td>\n",
              "      <td>0.878000</td>\n",
              "      <td>00:12</td>\n",
              "    </tr>\n",
              "  </tbody>\n",
              "</table>"
            ],
            "text/plain": [
              "<IPython.core.display.HTML object>"
            ]
          },
          "metadata": {
            "tags": []
          }
        }
      ]
    }
  ]
}