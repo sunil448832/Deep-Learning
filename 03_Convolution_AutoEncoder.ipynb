{
  "nbformat": 4,
  "nbformat_minor": 0,
  "metadata": {
    "colab": {
      "name": "Convolution_AutoEncoder.ipynb",
      "provenance": [],
      "collapsed_sections": [],
      "authorship_tag": "ABX9TyObemQzFlwbTUwmWIq5+NnN",
      "include_colab_link": true
    },
    "kernelspec": {
      "name": "python3",
      "display_name": "Python 3"
    }
  },
  "cells": [
    {
      "cell_type": "markdown",
      "metadata": {
        "id": "view-in-github",
        "colab_type": "text"
      },
      "source": [
        "<a href=\"https://colab.research.google.com/github/sunil448832/Machine-Learning/blob/main/Convolution_AutoEncoder.ipynb\" target=\"_parent\"><img src=\"https://colab.research.google.com/assets/colab-badge.svg\" alt=\"Open In Colab\"/></a>"
      ]
    },
    {
      "cell_type": "code",
      "metadata": {
        "id": "7GTg-IGp1qaR"
      },
      "source": [
        "import torch\n",
        "import torch.nn as nn\n",
        "import torch.nn.functional as F\n",
        "from torch.utils.data import DataLoader, Dataset, TensorDataset\n",
        "import torchvision\n",
        "import matplotlib.pyplot as plt\n",
        "import numpy as np\n",
        "device = torch.device(\"cuda:0\" if torch.cuda.is_available() else \"cpu\")"
      ],
      "execution_count": 1,
      "outputs": []
    },
    {
      "cell_type": "markdown",
      "metadata": {
        "id": "CVK9Ioi39wc9"
      },
      "source": [
        "## **Image preprocessing**"
      ]
    },
    {
      "cell_type": "code",
      "metadata": {
        "id": "QjSA4hIk9sbo"
      },
      "source": [
        "def preprocess(img):\n",
        "  img = img.convert('RGB')\n",
        "  img = torch.Tensor(np.array(img))\n",
        "  return img.permute(2,0,1).float()/255.0  # convert (H,W,C) to (C,H,W) and then normalise by 255\n"
      ],
      "execution_count": 2,
      "outputs": []
    },
    {
      "cell_type": "code",
      "metadata": {
        "id": "2y0zJlyg1y6L"
      },
      "source": [
        "\n",
        "train_dataset = torchvision.datasets.MNIST('/content/files/', train=True, download=True,\n",
        "                            transform=torchvision.transforms.Compose([preprocess]))\n",
        "\n",
        "test_dataset = torchvision.datasets.MNIST('/content/files/', train=False,download=True,\n",
        "                            transform=torchvision.transforms.Compose([preprocess]))\n",
        "size=len(train_dataset.targets)\n"
      ],
      "execution_count": null,
      "outputs": []
    },
    {
      "cell_type": "code",
      "metadata": {
        "id": "HYdfZAp3teXA"
      },
      "source": [
        "# splitting training set into 70% triaining set and 30% validation set \n",
        "\n",
        "train_indices=torch.utils.data.Subset(train_dataset,range(int(.7*size))).indices\n",
        "val_indices=torch.utils.data.Subset(train_dataset,range(int(.7*size),size)).indices\n"
      ],
      "execution_count": 4,
      "outputs": []
    },
    {
      "cell_type": "code",
      "metadata": {
        "id": "0WsumKU52nj7",
        "colab": {
          "base_uri": "https://localhost:8080/"
        },
        "outputId": "4d5ffefe-e9b2-4a22-a3ea-90e3a0f9cc53"
      },
      "source": [
        "\n",
        "class MyDataset(Dataset):\n",
        "  def __init__(self,dataset,indices,model_type='ae'):\n",
        "    self.dataset=dataset\n",
        "    self.indices=list(indices)\n",
        "    self.model_type=model_type\n",
        "    \n",
        "  def __getitem__(self, index):\n",
        "    subset=torch.utils.data.Subset(self.dataset,[self.indices[0]+index])\n",
        "    image,target=next(iter(DataLoader(subset,batch_size=1)))\n",
        "    image=image.squeeze(0)\n",
        "    target=target.squeeze(0)\n",
        "    \n",
        "    if self.model_type=='ae': # if dataset used for auto encoder\n",
        "       return image,image\n",
        "    else:                     # dataset used for Classification\n",
        "      return image,target\n",
        "    \n",
        "  def __len__(self):\n",
        "    return len(self.indices)\n",
        "\n",
        "def show(img):\n",
        "  plt.figure(figsize=(20,50)) \n",
        "  npimg = img.numpy()\n",
        "  plt.imshow(np.transpose(npimg, (1,2,0)), interpolation='nearest')\n",
        "\n"
      ],
      "execution_count": 5,
      "outputs": [
        {
          "output_type": "stream",
          "text": [
            "\n",
            "\n"
          ],
          "name": "stdout"
        }
      ]
    },
    {
      "cell_type": "markdown",
      "metadata": {
        "id": "OC0zCkJc_gYi"
      },
      "source": [
        "# **First Batch of Training set**"
      ]
    },
    {
      "cell_type": "code",
      "metadata": {
        "colab": {
          "base_uri": "https://localhost:8080/",
          "height": 237
        },
        "id": "ZQQjQhv16AQx",
        "outputId": "ca0f9145-ea98-4a1f-e60e-7c21162ed654"
      },
      "source": [
        "x,y = next(iter(DataLoader(train_dataset,batch_size=10,shuffle=True)))\n",
        "grid = torchvision.utils.make_grid(x,nrow=10, padding=20)\n",
        "show(grid)"
      ],
      "execution_count": 6,
      "outputs": [
        {
          "output_type": "display_data",
          "data": {
            "image/png": "[encoded data removed]",
            "text/plain": [
              "<Figure size 1440x3600 with 1 Axes>"
            ]
          },
          "metadata": {
            "tags": [],
            "needs_background": "light"
          }
        },
        {
          "output_type": "stream",
          "text": [
            "\n",
            "\n"
          ],
          "name": "stdout"
        }
      ]
    },
    {
      "cell_type": "markdown",
      "metadata": {
        "id": "OROtlEIV_u-x"
      },
      "source": [
        "# **Auto Encoder Model**"
      ]
    },
    {
      "cell_type": "code",
      "metadata": {
        "id": "6fjAYmWz2A9I"
      },
      "source": [
        "\n",
        "class AutoEncoder(nn.Module):\n",
        "  def __init__(self):\n",
        "    super(AutoEncoder, self).__init__()\n",
        "    pool = nn.MaxPool2d(kernel_size=2, stride=2) \n",
        "\n",
        "    #Encoder\n",
        "    self.encoder=nn.Sequential(nn.Conv2d(3, 8, kernel_size=3,stride=1,padding=1),nn.ReLU(inplace=True),pool,\n",
        "                               nn.Conv2d(8, 16, kernel_size=3,stride=1,padding=1),nn.ReLU(inplace=True),pool,\n",
        "                               nn.Conv2d(16, 32, kernel_size=3,stride=1,padding=1),nn.ReLU(inplace=True),pool,\n",
        "                               )\n",
        "    \n",
        "    #Decoder\n",
        "    self.decoder=nn.Sequential(nn.ConvTranspose2d(32, 16,kernel_size=2, stride=2,output_padding=1),nn.ReLU(inplace=True),\n",
        "                               nn.ConvTranspose2d(16, 8,kernel_size=2, stride=2),nn.ReLU(inplace=True),\n",
        "                               nn.ConvTranspose2d(8, 3,kernel_size=2, stride=2),nn.Sigmoid()\n",
        "                               )\n",
        "    self.criterion=nn.MSELoss()\n",
        "\n",
        "  def forward(self, x):\n",
        "    x=self.encoder(x)\n",
        "    x=self.decoder(x)   \n",
        "    return x\n",
        "  # Auto Encoder loss function  \n",
        "  def loss(self,x,y):\n",
        "    x=x.view(x.size(0),-1).float()\n",
        "    y=y.view(y.size(0),-1).float()\n",
        "    return self.criterion(x,y)\n"
      ],
      "execution_count": 7,
      "outputs": []
    },
    {
      "cell_type": "markdown",
      "metadata": {
        "id": "HzZLvvKf_8Gq"
      },
      "source": [
        "# **Training using FastAI Learner and saving the runs in to Weights and Biases**"
      ]
    },
    {
      "cell_type": "code",
      "metadata": {
        "colab": {
          "base_uri": "https://localhost:8080/",
          "height": 221
        },
        "id": "f9ibeTQI5b4m",
        "outputId": "0f628193-6db8-494b-bb83-390fd8599893"
      },
      "source": [
        "!pip install -qqq wandb\n",
        "!pip install -qqqU fastai\n",
        "import wandb\n",
        "from fastai.callback.wandb import *\n",
        "from fastai.vision.all import *\n",
        "from fastai.data.core import DataLoaders\n",
        "wandb.login()"
      ],
      "execution_count": 8,
      "outputs": [
        {
          "output_type": "stream",
          "text": [
            "\u001b[K     |████████████████████████████████| 1.8MB 12.5MB/s \n",
            "\u001b[K     |████████████████████████████████| 102kB 8.3MB/s \n",
            "\u001b[K     |████████████████████████████████| 163kB 42.2MB/s \n",
            "\u001b[K     |████████████████████████████████| 81kB 7.9MB/s \n",
            "\u001b[K     |████████████████████████████████| 133kB 53.9MB/s \n",
            "\u001b[K     |████████████████████████████████| 71kB 7.3MB/s \n",
            "\u001b[?25h  Building wheel for subprocess32 (setup.py) ... \u001b[?25l\u001b[?25hdone\n",
            "\u001b[K     |████████████████████████████████| 194kB 11.8MB/s \n",
            "\u001b[K     |████████████████████████████████| 61kB 6.4MB/s \n",
            "\u001b[?25h"
          ],
          "name": "stdout"
        },
        {
          "output_type": "display_data",
          "data": {
            "application/javascript": [
              "\n",
              "        window._wandbApiKey = new Promise((resolve, reject) => {\n",
              "            function loadScript(url) {\n",
              "            return new Promise(function(resolve, reject) {\n",
              "                let newScript = document.createElement(\"script\");\n",
              "                newScript.onerror = reject;\n",
              "                newScript.onload = resolve;\n",
              "                document.body.appendChild(newScript);\n",
              "                newScript.src = url;\n",
              "            });\n",
              "            }\n",
              "            loadScript(\"https://cdn.jsdelivr.net/npm/postmate/build/postmate.min.js\").then(() => {\n",
              "            const iframe = document.createElement('iframe')\n",
              "            iframe.style.cssText = \"width:0;height:0;border:none\"\n",
              "            document.body.appendChild(iframe)\n",
              "            const handshake = new Postmate({\n",
              "                container: iframe,\n",
              "                url: 'https://wandb.ai/authorize'\n",
              "            });\n",
              "            const timeout = setTimeout(() => reject(\"Couldn't auto authenticate\"), 5000)\n",
              "            handshake.then(function(child) {\n",
              "                child.on('authorize', data => {\n",
              "                    clearTimeout(timeout)\n",
              "                    resolve(data)\n",
              "                });\n",
              "            });\n",
              "            })\n",
              "        });\n",
              "    "
            ],
            "text/plain": [
              "<IPython.core.display.Javascript object>"
            ]
          },
          "metadata": {
            "tags": []
          }
        },
        {
          "output_type": "stream",
          "text": [
            "\u001b[34m\u001b[1mwandb\u001b[0m: Appending key for api.wandb.ai to your netrc file: /root/.netrc\n"
          ],
          "name": "stderr"
        },
        {
          "output_type": "execute_result",
          "data": {
            "text/plain": [
              "True"
            ]
          },
          "metadata": {
            "tags": []
          },
          "execution_count": 8
        }
      ]
    },
    {
      "cell_type": "code",
      "metadata": {
        "id": "Iin6yfhMDSRb"
      },
      "source": [
        "train_dataset_ae=MyDataset(train_dataset,train_indices,model_type='ae')\n",
        "val_dataset_ae=MyDataset(train_dataset,val_indices,model_type=\"ae\")\n"
      ],
      "execution_count": 10,
      "outputs": []
    },
    {
      "cell_type": "code",
      "metadata": {
        "id": "rbRUGY8yDqG9"
      },
      "source": [
        "wandb.init(project='AutoEncoder')"
      ],
      "execution_count": null,
      "outputs": []
    },
    {
      "cell_type": "markdown",
      "metadata": {
        "id": "pNKs9pO1AUSK"
      },
      "source": [
        "# **Auto Encoder Training**"
      ]
    },
    {
      "cell_type": "code",
      "metadata": {
        "id": "vNqPkLiJgEpF",
        "colab": {
          "base_uri": "https://localhost:8080/",
          "height": 393
        },
        "outputId": "d4adeb85-995a-4bf7-9fd7-fa741d66cbf0"
      },
      "source": [
        "dls = DataLoaders.from_dsets(train_dataset_ae, val_dataset_ae).to(device)\n",
        "train=True\n",
        "if train:\n",
        "  model=AutoEncoder().to(device)\n",
        "  learn = Learner(dls,model,model.loss,cbs=WandbCallback(log_model=True))\n",
        "  learn.fit_one_cycle(10, 1e-3)"
      ],
      "execution_count": 14,
      "outputs": [
        {
          "output_type": "stream",
          "text": [
            "WandbCallback requires use of \"SaveModelCallback\" to log best model\n",
            "WandbCallback was not able to prepare a DataLoader for logging prediction samples -> 'MyDataset' object has no attribute 'items'\n"
          ],
          "name": "stdout"
        },
        {
          "output_type": "display_data",
          "data": {
            "text/html": [
              "<table border=\"1\" class=\"dataframe\">\n",
              "  <thead>\n",
              "    <tr style=\"text-align: left;\">\n",
              "      <th>epoch</th>\n",
              "      <th>train_loss</th>\n",
              "      <th>valid_loss</th>\n",
              "      <th>time</th>\n",
              "    </tr>\n",
              "  </thead>\n",
              "  <tbody>\n",
              "    <tr>\n",
              "      <td>0</td>\n",
              "      <td>0.131409</td>\n",
              "      <td>0.113863</td>\n",
              "      <td>00:45</td>\n",
              "    </tr>\n",
              "    <tr>\n",
              "      <td>1</td>\n",
              "      <td>0.041812</td>\n",
              "      <td>0.040105</td>\n",
              "      <td>00:45</td>\n",
              "    </tr>\n",
              "    <tr>\n",
              "      <td>2</td>\n",
              "      <td>0.026151</td>\n",
              "      <td>0.025495</td>\n",
              "      <td>00:46</td>\n",
              "    </tr>\n",
              "    <tr>\n",
              "      <td>3</td>\n",
              "      <td>0.017742</td>\n",
              "      <td>0.017774</td>\n",
              "      <td>00:45</td>\n",
              "    </tr>\n",
              "    <tr>\n",
              "      <td>4</td>\n",
              "      <td>0.015951</td>\n",
              "      <td>0.016190</td>\n",
              "      <td>00:46</td>\n",
              "    </tr>\n",
              "    <tr>\n",
              "      <td>5</td>\n",
              "      <td>0.015059</td>\n",
              "      <td>0.015172</td>\n",
              "      <td>00:46</td>\n",
              "    </tr>\n",
              "    <tr>\n",
              "      <td>6</td>\n",
              "      <td>0.014301</td>\n",
              "      <td>0.014525</td>\n",
              "      <td>00:46</td>\n",
              "    </tr>\n",
              "    <tr>\n",
              "      <td>7</td>\n",
              "      <td>0.013888</td>\n",
              "      <td>0.014165</td>\n",
              "      <td>00:46</td>\n",
              "    </tr>\n",
              "    <tr>\n",
              "      <td>8</td>\n",
              "      <td>0.013780</td>\n",
              "      <td>0.014036</td>\n",
              "      <td>00:46</td>\n",
              "    </tr>\n",
              "    <tr>\n",
              "      <td>9</td>\n",
              "      <td>0.013782</td>\n",
              "      <td>0.013996</td>\n",
              "      <td>00:46</td>\n",
              "    </tr>\n",
              "  </tbody>\n",
              "</table>"
            ],
            "text/plain": [
              "<IPython.core.display.HTML object>"
            ]
          },
          "metadata": {
            "tags": []
          }
        }
      ]
    },
    {
      "cell_type": "markdown",
      "metadata": {
        "id": "LY5sjnQ6AYzN"
      },
      "source": [
        "# **Test Set Samples**"
      ]
    },
    {
      "cell_type": "code",
      "metadata": {
        "colab": {
          "base_uri": "https://localhost:8080/",
          "height": 203
        },
        "id": "DxQyoDYV4fBy",
        "outputId": "7ae553ba-df03-4820-9885-e83702bca4c1"
      },
      "source": [
        "x_test,y_test = next(iter(DataLoader(test_dataset,batch_size=10,shuffle=True)))\n",
        "grid = torchvision.utils.make_grid(x_test,nrow=10, padding=20)\n",
        "show(grid)\n"
      ],
      "execution_count": 15,
      "outputs": [
        {
          "output_type": "display_data",
          "data": {
            "image/png": "[encoded data removed]",
            "text/plain": [
              "<Figure size 1440x3600 with 1 Axes>"
            ]
          },
          "metadata": {
            "tags": [],
            "needs_background": "light"
          }
        }
      ]
    },
    {
      "cell_type": "markdown",
      "metadata": {
        "id": "xsBX1NKuAiYd"
      },
      "source": [
        "# **Auto Encoder Reconstruction of Test Sample**"
      ]
    },
    {
      "cell_type": "code",
      "metadata": {
        "colab": {
          "base_uri": "https://localhost:8080/",
          "height": 203
        },
        "id": "nIcsecg_FPRr",
        "outputId": "1792d800-6af8-48c7-cc71-d7025ddb6416"
      },
      "source": [
        "with torch.no_grad():\n",
        "  x_test_pred=model(x_test).cpu()\n",
        "  grid = torchvision.utils.make_grid(x_test_pred,nrow=10, padding=20)\n",
        "  show(grid)\n"
      ],
      "execution_count": 22,
      "outputs": [
        {
          "output_type": "display_data",
          "data": {
            "image/png": "[encoded data removed]",
            "text/plain": [
              "<Figure size 1440x3600 with 1 Axes>"
            ]
          },
          "metadata": {
            "tags": [],
            "needs_background": "light"
          }
        }
      ]
    },
    {
      "cell_type": "markdown",
      "metadata": {
        "id": "w8_Xtla0A0vp"
      },
      "source": [
        "# **Classifier Model to Classify MNIST data using Above Autoencoder's Encoder part as Feature Extarcter and final Linear Layer as Classifier**"
      ]
    },
    {
      "cell_type": "code",
      "metadata": {
        "id": "7BetjCYy_LrG"
      },
      "source": [
        "class Classifier(nn.Module):\n",
        "  def __init__(self,model):\n",
        "    super(Classifier,self).__init__()\n",
        "    self.feature=model.encoder\n",
        "    self.output= nn.Linear(3*3*32,10)\n",
        "  def forward(self,x):\n",
        "    x=self.feature(x).view(x.size(0),-1)\n",
        "    return self.output(x)\n",
        "\n"
      ],
      "execution_count": 28,
      "outputs": []
    },
    {
      "cell_type": "code",
      "metadata": {
        "id": "gsuwX4MO2OgN"
      },
      "source": [
        "train_dataset_c=MyDataset(train_dataset,train_indices,model_type='c')\n",
        "val_dataset_c=MyDataset(train_dataset,val_indices,model_type=\"c\")\n"
      ],
      "execution_count": 29,
      "outputs": []
    },
    {
      "cell_type": "code",
      "metadata": {
        "id": "BCLRipYfD7G8"
      },
      "source": [
        "wandb.init(project='Classifier')"
      ],
      "execution_count": null,
      "outputs": []
    },
    {
      "cell_type": "markdown",
      "metadata": {
        "id": "gKwQnxlpBXjm"
      },
      "source": [
        "# **Training Classifer by freezing the pretrained Encoder**"
      ]
    },
    {
      "cell_type": "code",
      "metadata": {
        "id": "_t-SQEBFyHL7"
      },
      "source": [
        "\n",
        "\n",
        "dls = DataLoaders.from_dsets(train_dataset_c, val_dataset_c).to(device)\n",
        "\n",
        "#spiliter to split models used to freeze any section\n",
        "splitter=lambda model:[params(model.feature),params(model.output)]\n",
        "\n",
        "classifier=Classifier(model).to(device)\n",
        "learn = Learner(dls,classifier,\n",
        "                loss_func=CrossEntropyLossFlat(),\n",
        "                metrics=accuracy,\n",
        "                splitter=splitter,\n",
        "                cbs=WandbCallback(log_model=True))"
      ],
      "execution_count": 33,
      "outputs": []
    },
    {
      "cell_type": "code",
      "metadata": {
        "colab": {
          "base_uri": "https://localhost:8080/",
          "height": 207
        },
        "id": "S3H72d5nyowY",
        "outputId": "4fdc6ffa-6b4c-44c2-a10a-f5b37b5c1f46"
      },
      "source": [
        "learn.freeze_to(0) # freeze the features Extracter(Encoder)\n",
        "learn.fit_one_cycle(4, 1e-2) # train upto 4 epochs with learning rate of 1e-2"
      ],
      "execution_count": 34,
      "outputs": [
        {
          "output_type": "stream",
          "text": [
            "WandbCallback requires use of \"SaveModelCallback\" to log best model\n",
            "WandbCallback was not able to prepare a DataLoader for logging prediction samples -> 'MyDataset' object has no attribute 'items'\n"
          ],
          "name": "stdout"
        },
        {
          "output_type": "display_data",
          "data": {
            "text/html": [
              "<table border=\"1\" class=\"dataframe\">\n",
              "  <thead>\n",
              "    <tr style=\"text-align: left;\">\n",
              "      <th>epoch</th>\n",
              "      <th>train_loss</th>\n",
              "      <th>valid_loss</th>\n",
              "      <th>accuracy</th>\n",
              "      <th>time</th>\n",
              "    </tr>\n",
              "  </thead>\n",
              "  <tbody>\n",
              "    <tr>\n",
              "      <td>0</td>\n",
              "      <td>0.147570</td>\n",
              "      <td>0.107419</td>\n",
              "      <td>0.967167</td>\n",
              "      <td>00:41</td>\n",
              "    </tr>\n",
              "    <tr>\n",
              "      <td>1</td>\n",
              "      <td>0.083692</td>\n",
              "      <td>0.095730</td>\n",
              "      <td>0.971000</td>\n",
              "      <td>00:41</td>\n",
              "    </tr>\n",
              "    <tr>\n",
              "      <td>2</td>\n",
              "      <td>0.044627</td>\n",
              "      <td>0.053737</td>\n",
              "      <td>0.984444</td>\n",
              "      <td>00:40</td>\n",
              "    </tr>\n",
              "    <tr>\n",
              "      <td>3</td>\n",
              "      <td>0.017849</td>\n",
              "      <td>0.044054</td>\n",
              "      <td>0.987056</td>\n",
              "      <td>00:41</td>\n",
              "    </tr>\n",
              "  </tbody>\n",
              "</table>"
            ],
            "text/plain": [
              "<IPython.core.display.HTML object>"
            ]
          },
          "metadata": {
            "tags": []
          }
        }
      ]
    },
    {
      "cell_type": "code",
      "metadata": {
        "colab": {
          "base_uri": "https://localhost:8080/",
          "height": 173
        },
        "id": "kNeJojIT9m_x",
        "outputId": "9c1cb7bb-2f87-4cdf-8940-d20955c6b698"
      },
      "source": [
        "learn.unfreeze()                    # unfreeze Encoder and  train whole network     \n",
        "learn.fit_one_cycle(4, slice(1e-4,1e-3))"
      ],
      "execution_count": 36,
      "outputs": [
        {
          "output_type": "display_data",
          "data": {
            "text/html": [
              "<table border=\"1\" class=\"dataframe\">\n",
              "  <thead>\n",
              "    <tr style=\"text-align: left;\">\n",
              "      <th>epoch</th>\n",
              "      <th>train_loss</th>\n",
              "      <th>valid_loss</th>\n",
              "      <th>accuracy</th>\n",
              "      <th>time</th>\n",
              "    </tr>\n",
              "  </thead>\n",
              "  <tbody>\n",
              "    <tr>\n",
              "      <td>0</td>\n",
              "      <td>0.015309</td>\n",
              "      <td>0.044882</td>\n",
              "      <td>0.987444</td>\n",
              "      <td>00:40</td>\n",
              "    </tr>\n",
              "    <tr>\n",
              "      <td>1</td>\n",
              "      <td>0.012967</td>\n",
              "      <td>0.043596</td>\n",
              "      <td>0.987222</td>\n",
              "      <td>00:41</td>\n",
              "    </tr>\n",
              "    <tr>\n",
              "      <td>2</td>\n",
              "      <td>0.012658</td>\n",
              "      <td>0.043416</td>\n",
              "      <td>0.987778</td>\n",
              "      <td>00:41</td>\n",
              "    </tr>\n",
              "    <tr>\n",
              "      <td>3</td>\n",
              "      <td>0.010385</td>\n",
              "      <td>0.043284</td>\n",
              "      <td>0.987944</td>\n",
              "      <td>00:41</td>\n",
              "    </tr>\n",
              "  </tbody>\n",
              "</table>"
            ],
            "text/plain": [
              "<IPython.core.display.HTML object>"
            ]
          },
          "metadata": {
            "tags": []
          }
        }
      ]
    }
  ]
}